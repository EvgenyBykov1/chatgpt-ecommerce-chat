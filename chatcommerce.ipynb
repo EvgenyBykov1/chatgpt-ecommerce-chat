{
 "cells": [
  {
   "attachments": {},
   "cell_type": "markdown",
   "metadata": {},
   "source": [
    "# 💬 Chat-Commerce 🛒"
   ]
  },
  {
   "cell_type": "code",
   "execution_count": null,
   "metadata": {},
   "outputs": [],
   "source": [
    "# Install packages\n",
    "%pip install python-dotenv langchain llama-index"
   ]
  },
  {
   "cell_type": "code",
   "execution_count": 19,
   "metadata": {},
   "outputs": [
    {
     "data": {
      "text/plain": [
       "True"
      ]
     },
     "execution_count": 19,
     "metadata": {},
     "output_type": "execute_result"
    }
   ],
   "source": [
    "from dotenv import load_dotenv\n",
    "\n",
    "# Load environment values\n",
    "load_dotenv()"
   ]
  },
  {
   "cell_type": "code",
   "execution_count": 20,
   "metadata": {},
   "outputs": [],
   "source": [
    "import logging\n",
    "import sys\n",
    "\n",
    "# Turn off unwanted logs\n",
    "logging.basicConfig(stream=sys.stdout, level=logging.ERROR)\n",
    "logging.getLogger().addHandler(logging.StreamHandler(stream=sys.stdout))"
   ]
  },
  {
   "cell_type": "code",
   "execution_count": 21,
   "metadata": {},
   "outputs": [],
   "source": [
    "from langchain.llms import OpenAIChat\n",
    "from langchain import OpenAI\n",
    "\n",
    "# Initialize OpenAI LLMs\n",
    "\n",
    "# one for 'Chat'\n",
    "llm_chat = OpenAIChat(temperature=0)\n",
    "\n",
    "# one for 'Index'\n",
    "llm_index = OpenAI(temperature=0)"
   ]
  },
  {
   "cell_type": "code",
   "execution_count": 22,
   "metadata": {},
   "outputs": [],
   "source": [
    "from pathlib import Path\n",
    "from llama_index import download_loader\n",
    "\n",
    "# Read the data from CSV\n",
    "SimpleCSVReader = download_loader(\"SimpleCSVReader\")\n",
    "loader = SimpleCSVReader()\n",
    "documents = loader.load_data(file=Path('./data/home-and-garden.csv'))"
   ]
  },
  {
   "cell_type": "code",
   "execution_count": null,
   "metadata": {},
   "outputs": [],
   "source": [
    "from llama_index import GPTSimpleVectorIndex, LLMPredictor\n",
    "\n",
    "# Index the data and store the embeddings\n",
    "# NOTE: Run this only if you want to re-index\n",
    "llm_predictor = LLMPredictor(llm=llm_index)\n",
    "index_data = GPTSimpleVectorIndex(documents, llm_predictor=llm_predictor)\n",
    "index_data.save_to_disk(\"./index/index.json\")"
   ]
  },
  {
   "cell_type": "code",
   "execution_count": 23,
   "metadata": {},
   "outputs": [],
   "source": [
    "from llama_index import GPTSimpleVectorIndex\n",
    "\n",
    "# Load the embeddings from existing index\n",
    "index_data = GPTSimpleVectorIndex.load_from_disk('./index/index.json')"
   ]
  },
  {
   "cell_type": "code",
   "execution_count": 24,
   "metadata": {},
   "outputs": [],
   "source": [
    "from langchain.agents import Tool\n",
    "\n",
    "# Create a langchain 'Tool'\n",
    "tools = [\n",
    "    Tool(\n",
    "        name = \"GPT Index\",\n",
    "        func=lambda q: str(index_data.query(q)),\n",
    "        description=\"useful for when you want to answer questions about products available in the store. The store sells furnitures and items for home and garden\",\n",
    "        return_direct=True\n",
    "    ),\n",
    "]"
   ]
  },
  {
   "cell_type": "code",
   "execution_count": 25,
   "metadata": {},
   "outputs": [],
   "source": [
    "from llama_index import GPTListIndex\n",
    "from langchain.agents import initialize_agent\n",
    "from llama_index.langchain_helpers.memory_wrapper import GPTIndexChatMemory\n",
    "\n",
    "# Index to be used for chat history\n",
    "index_chat_history = GPTListIndex([])\n",
    "\n",
    "# chat history\n",
    "memory = GPTIndexChatMemory(\n",
    "    index=index_chat_history, \n",
    "    memory_key=\"chat_history\", \n",
    "    query_kwargs={\"response_mode\": \"compact\"},\n",
    "    # return_source returns source nodes instead of querying index\n",
    "    return_source=True,\n",
    "    # return_messages returns context in message format\n",
    "    return_messages=True\n",
    ")\n",
    "\n",
    "# create an agent\n",
    "agent_chain = initialize_agent(tools, llm=llm_chat, agent=\"conversational-react-description\", memory=memory)"
   ]
  },
  {
   "cell_type": "code",
   "execution_count": 26,
   "metadata": {},
   "outputs": [
    {
     "data": {
      "text/plain": [
       "'Hello Bob! How can I assist you today?'"
      ]
     },
     "execution_count": 26,
     "metadata": {},
     "output_type": "execute_result"
    }
   ],
   "source": [
    "agent_chain.run(input=\"hi, i am bob\")"
   ]
  },
  {
   "cell_type": "code",
   "execution_count": 27,
   "metadata": {},
   "outputs": [
    {
     "data": {
      "text/plain": [
       "'\\nThe products available in the store are: Clay Plant Pot, Copper Light, Cream Sofa, Antique Drawers, White Bed Clothes, Pink Armchair, Wooden Outdoor Table, Brown Throw Pillows, White Ceramic Pot, Yellow Watering Can, Gardening Hand Trowel, Biodegradable Cardboard Pots, Grey Sofa, Wooden Outdoor Slats, Wooden Fence, Yellow Sofa, Knitted Throw Pillows, Vanilla Candle, Black Bean Bag, Bedside Table.'"
      ]
     },
     "execution_count": 27,
     "metadata": {},
     "output_type": "execute_result"
    }
   ],
   "source": [
    "agent_chain.run(input=\"what are the products available?\")"
   ]
  },
  {
   "cell_type": "code",
   "execution_count": 28,
   "metadata": {},
   "outputs": [
    {
     "data": {
      "text/plain": [
       "'\\nYes, garden furniture is included in the context information. Examples of garden furniture include the Wooden Outdoor Table, Wooden Outdoor Slats, Wooden Fence, and Biodegradable Cardboard Pots.'"
      ]
     },
     "execution_count": 28,
     "metadata": {},
     "output_type": "execute_result"
    }
   ],
   "source": [
    "agent_chain.run(input=\"I'm looking for some furniture to use in my garden\")"
   ]
  },
  {
   "cell_type": "code",
   "execution_count": 29,
   "metadata": {},
   "outputs": [
    {
     "data": {
      "text/plain": [
       "'\\nVendor: Rustic LTD\\nType: Outdoor\\nTags: Wood, Garden\\nPrice: 99.99'"
      ]
     },
     "execution_count": 29,
     "metadata": {},
     "output_type": "execute_result"
    }
   ],
   "source": [
    "agent_chain.run(input=\"Great. Can you pick me one table?\")"
   ]
  },
  {
   "cell_type": "code",
   "execution_count": 30,
   "metadata": {},
   "outputs": [
    {
     "data": {
      "text/plain": [
       "'\\nhttps://burst.shopifycdn.com/photos/cafe-patio_925x.jpg'"
      ]
     },
     "execution_count": 30,
     "metadata": {},
     "output_type": "execute_result"
    }
   ],
   "source": [
    "agent_chain.run(input=\"Yes also show me a picture of it\")"
   ]
  }
 ],
 "metadata": {
  "kernelspec": {
   "display_name": ".venv",
   "language": "python",
   "name": "python3"
  },
  "language_info": {
   "codemirror_mode": {
    "name": "ipython",
    "version": 3
   },
   "file_extension": ".py",
   "mimetype": "text/x-python",
   "name": "python",
   "nbconvert_exporter": "python",
   "pygments_lexer": "ipython3",
   "version": "3.11.2"
  },
  "orig_nbformat": 4
 },
 "nbformat": 4,
 "nbformat_minor": 2
}
